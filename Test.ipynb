{
    "cells": [
        {
            "cell_type": "markdown",
            "metadata": {},
            "source": "### Description"
        },
        {
            "cell_type": "code",
            "execution_count": 1,
            "metadata": {},
            "outputs": [
                {
                    "data": {
                        "text/html": "<div>\n<style scoped>\n    .dataframe tbody tr th:only-of-type {\n        vertical-align: middle;\n    }\n\n    .dataframe tbody tr th {\n        vertical-align: top;\n    }\n\n    .dataframe thead th {\n        text-align: right;\n    }\n</style>\n<table border=\"1\" class=\"dataframe\">\n  <thead>\n    <tr style=\"text-align: right;\">\n      <th></th>\n      <th>ID</th>\n      <th>\u0627\u0644\u0645\u062d\u0627\u0641\u0638\u0629</th>\n      <th>\u0627\u0644\u0639\u0645\u0631</th>\n      <th>\u0627\u0644\u062c\u0646\u0633</th>\n      <th>\u0643\u0627\u0646\u0648\u0646 \u0627\u0644\u062b\u0627\u0646\u064a</th>\n      <th>\u0634\u0628\u0627\u0637</th>\n      <th>\u0622\u0630\u0627\u0631</th>\n      <th>\u0646\u064a\u0633\u0627\u0646</th>\n      <th>\u0623\u064a\u0627\u0631</th>\n      <th>\u062d\u0632\u064a\u0631\u0627\u0646</th>\n      <th>\u062a\u0645\u0648\u0632</th>\n      <th>\u0622\u0628</th>\n      <th>\u0623\u064a\u0644\u0648\u0644</th>\n      <th>\u062a\u0634\u0631\u064a\u0646 \u0627\u0644\u0623\u0648\u0644</th>\n      <th>\u062a\u0634\u0631\u064a\u0646 \u0627\u0644\u062b\u0627\u0646\u064a</th>\n      <th>\u0643\u0627\u0646\u0648\u0646 \u0627\u0644\u0623\u0648\u0644</th>\n      <th>\u0627\u0633\u062a\u0647\u0644\u0627\u0643 \u0627\u0644\u0627\u0646\u062a\u0631\u0646\u062a</th>\n    </tr>\n  </thead>\n  <tbody>\n    <tr>\n      <th>0</th>\n      <td>0</td>\n      <td>\u062d\u0645\u0635</td>\n      <td>45.0</td>\n      <td>\u0623</td>\n      <td>1197.0</td>\n      <td>108</td>\n      <td>60.0</td>\n      <td>180</td>\n      <td>1445</td>\n      <td>646.0</td>\n      <td>1095.0</td>\n      <td>501.0</td>\n      <td>1520.0</td>\n      <td>748.0</td>\n      <td>1418.0</td>\n      <td>569.0</td>\n      <td>3869</td>\n    </tr>\n    <tr>\n      <th>1</th>\n      <td>1</td>\n      <td>\u0627\u0644\u062d\u0633\u0643\u0629</td>\n      <td>14.0</td>\n      <td>\u0623</td>\n      <td>15.0</td>\n      <td>72</td>\n      <td>33.0</td>\n      <td>23</td>\n      <td>23</td>\n      <td>72.0</td>\n      <td>66.0</td>\n      <td>80.0</td>\n      <td>89.0</td>\n      <td>21.0</td>\n      <td>19.0</td>\n      <td>23.0</td>\n      <td>2282</td>\n    </tr>\n    <tr>\n      <th>2</th>\n      <td>6</td>\n      <td>\u062f\u064a\u0631 \u0627\u0644\u0632\u0648\u0631</td>\n      <td>27.0</td>\n      <td>\u0623</td>\n      <td>108.0</td>\n      <td>68</td>\n      <td>1056.0</td>\n      <td>1565</td>\n      <td>1103</td>\n      <td>587.0</td>\n      <td>803.0</td>\n      <td>71.0</td>\n      <td>975.0</td>\n      <td>743.0</td>\n      <td>350.0</td>\n      <td>1116.0</td>\n      <td>1010</td>\n    </tr>\n    <tr>\n      <th>3</th>\n      <td>8</td>\n      <td>\u062d\u0644\u0628</td>\n      <td>64.0</td>\n      <td>\u0630</td>\n      <td>13.0</td>\n      <td>27</td>\n      <td>18.0</td>\n      <td>28</td>\n      <td>13</td>\n      <td>10.0</td>\n      <td>22.0</td>\n      <td>13.0</td>\n      <td>24.0</td>\n      <td>11.0</td>\n      <td>24.0</td>\n      <td>25.0</td>\n      <td>403</td>\n    </tr>\n    <tr>\n      <th>4</th>\n      <td>9</td>\n      <td>\u0637\u0631\u0637\u0648\u0633</td>\n      <td>43.0</td>\n      <td>\u0630</td>\n      <td>327.0</td>\n      <td>1013</td>\n      <td>106.0</td>\n      <td>1279</td>\n      <td>212</td>\n      <td>842.0</td>\n      <td>1021.0</td>\n      <td>317.0</td>\n      <td>966.0</td>\n      <td>332.0</td>\n      <td>1070.0</td>\n      <td>1292.0</td>\n      <td>3790</td>\n    </tr>\n  </tbody>\n</table>\n</div>",
                        "text/plain": "   ID   \u0627\u0644\u0645\u062d\u0627\u0641\u0638\u0629  \u0627\u0644\u0639\u0645\u0631 \u0627\u0644\u062c\u0646\u0633  \u0643\u0627\u0646\u0648\u0646 \u0627\u0644\u062b\u0627\u0646\u064a  \u0634\u0628\u0627\u0637    \u0622\u0630\u0627\u0631  \u0646\u064a\u0633\u0627\u0646  \u0623\u064a\u0627\u0631  \\\n0   0        \u062d\u0645\u0635   45.0     \u0623        1197.0   108    60.0    180  1445   \n1   1     \u0627\u0644\u062d\u0633\u0643\u0629   14.0     \u0623          15.0    72    33.0     23    23   \n2   6  \u062f\u064a\u0631 \u0627\u0644\u0632\u0648\u0631   27.0     \u0623         108.0    68  1056.0   1565  1103   \n3   8        \u062d\u0644\u0628   64.0     \u0630          13.0    27    18.0     28    13   \n4   9      \u0637\u0631\u0637\u0648\u0633   43.0     \u0630         327.0  1013   106.0   1279   212   \n\n   \u062d\u0632\u064a\u0631\u0627\u0646    \u062a\u0645\u0648\u0632     \u0622\u0628   \u0623\u064a\u0644\u0648\u0644  \u062a\u0634\u0631\u064a\u0646 \u0627\u0644\u0623\u0648\u0644  \u062a\u0634\u0631\u064a\u0646 \u0627\u0644\u062b\u0627\u0646\u064a  \u0643\u0627\u0646\u0648\u0646 \u0627\u0644\u0623\u0648\u0644  \\\n0   646.0  1095.0  501.0  1520.0        748.0        1418.0        569.0   \n1    72.0    66.0   80.0    89.0         21.0          19.0         23.0   \n2   587.0   803.0   71.0   975.0        743.0         350.0       1116.0   \n3    10.0    22.0   13.0    24.0         11.0          24.0         25.0   \n4   842.0  1021.0  317.0   966.0        332.0        1070.0       1292.0   \n\n   \u0627\u0633\u062a\u0647\u0644\u0627\u0643 \u0627\u0644\u0627\u0646\u062a\u0631\u0646\u062a  \n0              3869  \n1              2282  \n2              1010  \n3               403  \n4              3790  "
                    },
                    "execution_count": 1,
                    "metadata": {},
                    "output_type": "execute_result"
                }
            ],
            "source": "# The code was removed by Watson Studio for sharing."
        },
        {
            "cell_type": "code",
            "execution_count": null,
            "metadata": {},
            "outputs": [],
            "source": ""
        }
    ],
    "metadata": {
        "kernelspec": {
            "display_name": "Python 3.7",
            "language": "python",
            "name": "python3"
        },
        "language_info": {
            "codemirror_mode": {
                "name": "ipython",
                "version": 3
            },
            "file_extension": ".py",
            "mimetype": "text/x-python",
            "name": "python",
            "nbconvert_exporter": "python",
            "pygments_lexer": "ipython3",
            "version": "3.7.9"
        }
    },
    "nbformat": 4,
    "nbformat_minor": 1
}